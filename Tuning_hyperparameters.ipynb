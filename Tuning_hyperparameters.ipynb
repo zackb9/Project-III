{
 "cells": [
  {
   "cell_type": "code",
   "execution_count": 2,
   "id": "443a16d8-366a-4a8d-b846-a5a163a6c2d3",
   "metadata": {},
   "outputs": [],
   "source": [
    "import tensorflow as tf\n",
    "from tensorflow import keras\n",
    "import matplotlib.pyplot as plt\n",
    "import time\n",
    "import numpy as np\n",
    "import keras_tuner as kt"
   ]
  },
  {
   "cell_type": "code",
   "execution_count": 8,
   "id": "d76993ad-9896-475a-9d78-95d834ba0c9c",
   "metadata": {},
   "outputs": [],
   "source": [
    "(x_train, y_train), (x_test, y_test) = tf.keras.datasets.fashion_mnist.load_data()"
   ]
  },
  {
   "cell_type": "code",
   "execution_count": 9,
   "id": "b86d5f69-76ce-4484-a092-68e855ec9763",
   "metadata": {},
   "outputs": [],
   "source": [
    "x_train=x_train/255\n",
    "x_test=x_test/255"
   ]
  },
  {
   "cell_type": "code",
   "execution_count": null,
   "id": "9449e9a1-bdb3-4c3c-abfb-a902f89706f7",
   "metadata": {},
   "outputs": [],
   "source": [
    "def build_the_model(hp):\n",
    "    model = tf.keras.Sequential()\n",
    "    model.add(tf.keras.layers.Flatten(input_shape=(28, 28)))\n",
    "    hp_units = hp.Int('units', min_value=32, max_value=512, step=64)\n",
    "    model.add(tf.keras.layers.Dense(units=hp_units, activation='tanh', kernel_initializer = keras.initializers.GlorotNormal))\n",
    "    model.add(tf.keras.layers.Dense(units=10, activation='softmax', kernel_initializer = keras.initializers.GlorotNormal))\n",
    "    \n",
    "    hp_learning_rate = hp.Choice('learning_rate', values=[1e-2, 1e-3, 1e-4])\n",
    "    model.compile(optimizer=keras.optimizers.SGD(learning_rate=hp_learning_rate), \n",
    "    loss=tf.keras.losses.SparseCategoricalCrossentropy(from_logits=True),\n",
    "    metrics=['accuracy'])\n",
    "    \n",
    "    return model"
   ]
  },
  {
   "cell_type": "code",
   "execution_count": 7,
   "id": "b70486da-7c87-4d8c-8628-abdd790cf3ba",
   "metadata": {},
   "outputs": [
    {
     "name": "stdout",
     "output_type": "stream",
     "text": [
      "INFO:tensorflow:Reloading Oracle from existing project f/untitled_project/oracle.json\n",
      "INFO:tensorflow:Reloading Tuner from f/untitled_project/tuner0.json\n",
      "INFO:tensorflow:Oracle triggered exit\n",
      "\n",
      "The hyperparameter search is complete. The optimal number of units in the first densely-connected\n",
      "layer is 224 and the optimal learning rate for the optimizer\n",
      "is 0.01.\n",
      "\n"
     ]
    }
   ],
   "source": [
    "tuner = kt.RandomSearch(build_the_model,\n",
    "                     objective='val_accuracy',\n",
    "                     max_trials=10,\n",
    "                       directory = 'f')\n",
    "\n",
    "stop_early = tf.keras.callbacks.EarlyStopping(monitor='val_loss', patience=5)\n",
    "\n",
    "tuner.search(x_train, y_train, epochs=16, validation_split=0.2, callbacks=[stop_early])\n",
    "\n",
    "# Get the optimal hyperparameters\n",
    "best_hps=tuner.get_best_hyperparameters(num_trials=1)[0]\n",
    "best_model = tuner.get_best_models()[0]\n",
    "\n",
    "print(f\"\"\"\n",
    "The hyperparameter search is complete. The optimal number of units in the first densely-connected\n",
    "layer is {best_hps.get('units')} and the optimal learning rate for the optimizer\n",
    "is {best_hps.get('learning_rate')}.\n",
    "\"\"\")"
   ]
  },
  {
   "cell_type": "code",
   "execution_count": 12,
   "id": "05ca0eb9-77a3-4e5e-8529-8b378366809e",
   "metadata": {},
   "outputs": [
    {
     "name": "stdout",
     "output_type": "stream",
     "text": [
      "Epoch 1/16\n"
     ]
    },
    {
     "name": "stderr",
     "output_type": "stream",
     "text": [
      "2022-04-28 16:44:45.603825: I tensorflow/core/grappler/optimizers/custom_graph_optimizer_registry.cc:112] Plugin optimizer for device_type GPU is enabled.\n"
     ]
    },
    {
     "name": "stdout",
     "output_type": "stream",
     "text": [
      "1498/1500 [============================>.] - ETA: 0s - loss: 3.2436 - accuracy: 0.7882"
     ]
    },
    {
     "name": "stderr",
     "output_type": "stream",
     "text": [
      "2022-04-28 16:44:55.348972: I tensorflow/core/grappler/optimizers/custom_graph_optimizer_registry.cc:112] Plugin optimizer for device_type GPU is enabled.\n"
     ]
    },
    {
     "name": "stdout",
     "output_type": "stream",
     "text": [
      "1500/1500 [==============================] - 11s 5ms/step - loss: 3.2426 - accuracy: 0.7882 - val_loss: 2.3744 - val_accuracy: 0.8412\n",
      "Epoch 2/16\n",
      "1500/1500 [==============================] - 8s 5ms/step - loss: 1.9335 - accuracy: 0.8337 - val_loss: 1.5261 - val_accuracy: 0.8434\n",
      "Epoch 3/16\n",
      "1500/1500 [==============================] - 8s 5ms/step - loss: 1.2566 - accuracy: 0.8449 - val_loss: 1.0083 - val_accuracy: 0.8588\n",
      "Epoch 4/16\n",
      "1500/1500 [==============================] - 8s 5ms/step - loss: 0.8957 - accuracy: 0.8505 - val_loss: 0.7631 - val_accuracy: 0.8562\n",
      "Epoch 5/16\n",
      "1500/1500 [==============================] - 8s 5ms/step - loss: 0.7017 - accuracy: 0.8523 - val_loss: 0.7167 - val_accuracy: 0.8311\n",
      "Epoch 6/16\n",
      "1500/1500 [==============================] - 8s 6ms/step - loss: 0.5937 - accuracy: 0.8537 - val_loss: 0.5778 - val_accuracy: 0.8493\n",
      "Epoch 7/16\n",
      "1500/1500 [==============================] - 8s 5ms/step - loss: 0.5351 - accuracy: 0.8552 - val_loss: 0.5164 - val_accuracy: 0.8566\n",
      "Epoch 8/16\n",
      "1500/1500 [==============================] - 8s 5ms/step - loss: 0.5004 - accuracy: 0.8560 - val_loss: 0.5063 - val_accuracy: 0.8487\n",
      "Epoch 9/16\n",
      "1500/1500 [==============================] - 8s 5ms/step - loss: 0.4856 - accuracy: 0.8569 - val_loss: 0.5243 - val_accuracy: 0.8388\n",
      "Epoch 10/16\n",
      "1500/1500 [==============================] - 7s 5ms/step - loss: 0.4769 - accuracy: 0.8573 - val_loss: 0.4526 - val_accuracy: 0.8661\n",
      "Epoch 11/16\n",
      "1500/1500 [==============================] - 8s 5ms/step - loss: 0.4665 - accuracy: 0.8594 - val_loss: 0.5156 - val_accuracy: 0.8392\n",
      "Epoch 12/16\n",
      "1500/1500 [==============================] - 8s 5ms/step - loss: 0.4661 - accuracy: 0.8575 - val_loss: 0.4933 - val_accuracy: 0.8508\n",
      "Epoch 13/16\n",
      "1500/1500 [==============================] - 7s 5ms/step - loss: 0.4621 - accuracy: 0.8597 - val_loss: 0.4976 - val_accuracy: 0.8505\n",
      "Epoch 14/16\n",
      "1500/1500 [==============================] - 7s 5ms/step - loss: 0.4592 - accuracy: 0.8597 - val_loss: 0.4524 - val_accuracy: 0.8625\n",
      "Epoch 15/16\n",
      "1500/1500 [==============================] - 7s 5ms/step - loss: 0.4558 - accuracy: 0.8622 - val_loss: 0.4954 - val_accuracy: 0.8417\n",
      "Epoch 16/16\n",
      "1500/1500 [==============================] - 7s 5ms/step - loss: 0.4595 - accuracy: 0.8593 - val_loss: 0.4952 - val_accuracy: 0.8349\n"
     ]
    }
   ],
   "source": [
    "# Regularisation and batch norm\n",
    "model_tuned = tf.keras.Sequential()\n",
    "model_tuned.add(tf.keras.layers.Flatten(input_shape=(28, 28)))\n",
    "model_tuned.add(tf.keras.layers.Dense(units=224, activation=keras.layers.LeakyReLU(alpha=0.1), kernel_initializer = keras.initializers.GlorotNormal, kernel_regularizer='l2'))\n",
    "model_tuned.add(tf.keras.layers.BatchNormalization())\n",
    "model_tuned.add(tf.keras.layers.Dropout(0.3))\n",
    "model_tuned.add(tf.keras.layers.Dense(units=10, activation='softmax', kernel_initializer = keras.initializers.HeUniform))\n",
    "\n",
    "# Compile and fit\n",
    "model_tuned.compile(optimizer=keras.optimizers.SGD(0.01), loss=tf.keras.losses.SparseCategoricalCrossentropy(from_logits=True), metrics=['accuracy'])\n",
    "history=model_tuned.fit(x_train,y_train, epochs=16, validation_split=0.2)"
   ]
  },
  {
   "cell_type": "code",
   "execution_count": 13,
   "id": "a56a6ba4-f200-4279-93ed-74daa5359a4f",
   "metadata": {},
   "outputs": [
    {
     "ename": "NameError",
     "evalue": "name 'model' is not defined",
     "output_type": "error",
     "traceback": [
      "\u001b[0;31m---------------------------------------------------------------------------\u001b[0m",
      "\u001b[0;31mNameError\u001b[0m                                 Traceback (most recent call last)",
      "\u001b[0;32m/var/folders/xg/kq_75m4s76zdrw7ydb46cptr0000gn/T/ipykernel_58188/3470139634.py\u001b[0m in \u001b[0;36m<module>\u001b[0;34m\u001b[0m\n\u001b[0;32m----> 1\u001b[0;31m \u001b[0mmodel\u001b[0m\u001b[0;34m.\u001b[0m\u001b[0msummary\u001b[0m\u001b[0;34m(\u001b[0m\u001b[0;34m)\u001b[0m\u001b[0;34m\u001b[0m\u001b[0;34m\u001b[0m\u001b[0m\n\u001b[0m",
      "\u001b[0;31mNameError\u001b[0m: name 'model' is not defined"
     ]
    }
   ],
   "source": [
    "model.summary()"
   ]
  },
  {
   "cell_type": "code",
   "execution_count": null,
   "id": "abe9ca4f-5ea4-4f7c-ac2a-001b84069c85",
   "metadata": {},
   "outputs": [],
   "source": [
    "plt.plot(history.history['val_loss']) \n",
    "plt.plot(history.history['loss'])\n",
    "plt.title('Basic NN for Fashion MNIST: Loss')\n",
    "plt.ylabel('Loss')\n",
    "plt.xlabel('Epoch')\n",
    "plt.legend(['Validation Loss', \"Training Loss\"], loc='upper left')\n",
    "plt.show()"
   ]
  },
  {
   "cell_type": "code",
   "execution_count": null,
   "id": "4d85c225-aee0-4224-87bc-df26458f48d4",
   "metadata": {},
   "outputs": [],
   "source": []
  }
 ],
 "metadata": {
  "kernelspec": {
   "display_name": "Python 3 (ipykernel)",
   "language": "python",
   "name": "python3"
  },
  "language_info": {
   "codemirror_mode": {
    "name": "ipython",
    "version": 3
   },
   "file_extension": ".py",
   "mimetype": "text/x-python",
   "name": "python",
   "nbconvert_exporter": "python",
   "pygments_lexer": "ipython3",
   "version": "3.9.7"
  }
 },
 "nbformat": 4,
 "nbformat_minor": 5
}
