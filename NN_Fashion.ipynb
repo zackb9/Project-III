{
 "cells": [
  {
   "cell_type": "code",
   "execution_count": 1,
   "id": "3ec30d4b-39eb-4f3f-b3a4-8d9a077c559e",
   "metadata": {},
   "outputs": [],
   "source": [
    "import tensorflow as tf\n",
    "from tensorflow import keras\n",
    "import matplotlib.pyplot as plt\n",
    "import time\n",
    "import numpy as np\n",
    "import keras_tuner as kt"
   ]
  },
  {
   "cell_type": "code",
   "execution_count": 2,
   "id": "8dc689e6-28bb-4072-9524-4df19397090a",
   "metadata": {},
   "outputs": [],
   "source": [
    "(x_train, y_train), (x_test, y_test) = tf.keras.datasets.fashion_mnist.load_data()"
   ]
  },
  {
   "cell_type": "code",
   "execution_count": 3,
   "id": "a87e480c-5d31-4a59-83ca-07b159ed23d2",
   "metadata": {},
   "outputs": [],
   "source": [
    "x_train=x_train/255\n",
    "x_test=x_test/255"
   ]
  },
  {
   "cell_type": "code",
   "execution_count": 20,
   "id": "fd0be490-0c0f-4661-93c8-272acee34a83",
   "metadata": {
    "tags": []
   },
   "outputs": [
    {
     "name": "stdout",
     "output_type": "stream",
     "text": [
      "Epoch 1/16\n",
      "  12/1500 [..............................] - ETA: 6s - loss: 1.9880 - accuracy: 0.3125  "
     ]
    },
    {
     "name": "stderr",
     "output_type": "stream",
     "text": [
      "2022-04-28 13:37:50.591830: I tensorflow/core/grappler/optimizers/custom_graph_optimizer_registry.cc:112] Plugin optimizer for device_type GPU is enabled.\n"
     ]
    },
    {
     "name": "stdout",
     "output_type": "stream",
     "text": [
      "1500/1500 [==============================] - ETA: 0s - loss: 0.6261 - accuracy: 0.7986"
     ]
    },
    {
     "name": "stderr",
     "output_type": "stream",
     "text": [
      "2022-04-28 13:37:57.528705: I tensorflow/core/grappler/optimizers/custom_graph_optimizer_registry.cc:112] Plugin optimizer for device_type GPU is enabled.\n"
     ]
    },
    {
     "name": "stdout",
     "output_type": "stream",
     "text": [
      "1500/1500 [==============================] - 8s 5ms/step - loss: 0.6261 - accuracy: 0.7986 - val_loss: 0.4758 - val_accuracy: 0.8315\n",
      "Epoch 2/16\n",
      "1500/1500 [==============================] - 7s 5ms/step - loss: 0.4326 - accuracy: 0.8485 - val_loss: 0.4169 - val_accuracy: 0.8534\n",
      "Epoch 3/16\n",
      "1500/1500 [==============================] - 7s 4ms/step - loss: 0.4003 - accuracy: 0.8582 - val_loss: 0.4401 - val_accuracy: 0.8443\n",
      "Epoch 4/16\n",
      "1500/1500 [==============================] - 7s 4ms/step - loss: 0.3833 - accuracy: 0.8647 - val_loss: 0.3955 - val_accuracy: 0.8587\n",
      "Epoch 5/16\n",
      "1500/1500 [==============================] - 7s 5ms/step - loss: 0.3711 - accuracy: 0.8693 - val_loss: 0.3883 - val_accuracy: 0.8622\n",
      "Epoch 6/16\n",
      "1500/1500 [==============================] - 7s 4ms/step - loss: 0.3624 - accuracy: 0.8714 - val_loss: 0.4031 - val_accuracy: 0.8553\n",
      "Epoch 7/16\n",
      "1500/1500 [==============================] - 7s 5ms/step - loss: 0.3553 - accuracy: 0.8741 - val_loss: 0.4063 - val_accuracy: 0.8532\n",
      "Epoch 8/16\n",
      "1500/1500 [==============================] - 8s 5ms/step - loss: 0.3495 - accuracy: 0.8759 - val_loss: 0.3858 - val_accuracy: 0.8656\n",
      "Epoch 9/16\n",
      "1500/1500 [==============================] - 7s 5ms/step - loss: 0.3452 - accuracy: 0.8782 - val_loss: 0.3827 - val_accuracy: 0.8621\n",
      "Epoch 10/16\n",
      "1500/1500 [==============================] - 8s 5ms/step - loss: 0.3405 - accuracy: 0.8800 - val_loss: 0.3806 - val_accuracy: 0.8663\n",
      "Epoch 11/16\n",
      "1500/1500 [==============================] - 7s 5ms/step - loss: 0.3362 - accuracy: 0.8811 - val_loss: 0.3838 - val_accuracy: 0.8638\n",
      "Epoch 12/16\n",
      "1500/1500 [==============================] - 7s 4ms/step - loss: 0.3316 - accuracy: 0.8817 - val_loss: 0.3782 - val_accuracy: 0.8666\n",
      "Epoch 13/16\n",
      "1500/1500 [==============================] - 7s 5ms/step - loss: 0.3294 - accuracy: 0.8835 - val_loss: 0.3730 - val_accuracy: 0.8696\n",
      "Epoch 14/16\n",
      "1500/1500 [==============================] - 7s 5ms/step - loss: 0.3246 - accuracy: 0.8842 - val_loss: 0.3685 - val_accuracy: 0.8712\n",
      "Epoch 15/16\n",
      "1500/1500 [==============================] - 7s 5ms/step - loss: 0.3231 - accuracy: 0.8857 - val_loss: 0.3719 - val_accuracy: 0.8691\n",
      "Epoch 16/16\n",
      "1500/1500 [==============================] - 7s 4ms/step - loss: 0.3198 - accuracy: 0.8862 - val_loss: 0.3693 - val_accuracy: 0.8705\n"
     ]
    }
   ],
   "source": [
    "# define the model and add layers\n",
    "model = tf.keras.Sequential()\n",
    "model.add(tf.keras.layers.Flatten(input_shape=(28, 28)))\n",
    "model.add(tf.keras.layers.Dense(units=16, activation='tanh', kernel_initializer = keras.initializers.GlorotNormal))\n",
    "model.add(tf.keras.layers.Dense(units=10, activation='softmax', kernel_initializer = keras.initializers.GlorotNormal))\n",
    "\n",
    "# compile and fit the model to the training data\n",
    "start =time.time()\n",
    "model.compile( loss=tf.keras.losses.SparseCategoricalCrossentropy(), metrics = ['accuracy'])\n",
    "history =model.fit(x_train,y_train, epochs=16, validation_split=0.2)\n",
    "end=time.time()    "
   ]
  },
  {
   "cell_type": "code",
   "execution_count": 21,
   "id": "d3d1dcd9-b395-4441-acff-219486df5b4a",
   "metadata": {},
   "outputs": [
    {
     "name": "stdout",
     "output_type": "stream",
     "text": [
      "113.6455729007721\n",
      " 42/313 [===>..........................] - ETA: 1s - loss: 0.3817 - accuracy: 0.8713"
     ]
    },
    {
     "name": "stderr",
     "output_type": "stream",
     "text": [
      "2022-04-28 13:39:43.719379: I tensorflow/core/grappler/optimizers/custom_graph_optimizer_registry.cc:112] Plugin optimizer for device_type GPU is enabled.\n"
     ]
    },
    {
     "name": "stdout",
     "output_type": "stream",
     "text": [
      "313/313 [==============================] - 1s 4ms/step - loss: 0.3968 - accuracy: 0.8605\n",
      "\n",
      "Test accuracy: 0.8605000376701355\n"
     ]
    }
   ],
   "source": [
    "print(end-start)\n",
    "test_loss, test_acc = model.evaluate(x_test,y_test, verbose=1)\n",
    "print('\\nTest accuracy:', test_acc)"
   ]
  },
  {
   "cell_type": "code",
   "execution_count": 22,
   "id": "f9085126-7de5-4015-9366-60b51248ca2a",
   "metadata": {},
   "outputs": [
    {
     "name": "stdout",
     "output_type": "stream",
     "text": [
      "Model: \"sequential_2\"\n",
      "_________________________________________________________________\n",
      "Layer (type)                 Output Shape              Param #   \n",
      "=================================================================\n",
      "flatten_2 (Flatten)          (None, 784)               0         \n",
      "_________________________________________________________________\n",
      "dense_4 (Dense)              (None, 16)                12560     \n",
      "_________________________________________________________________\n",
      "dense_5 (Dense)              (None, 10)                170       \n",
      "=================================================================\n",
      "Total params: 12,730\n",
      "Trainable params: 12,730\n",
      "Non-trainable params: 0\n",
      "_________________________________________________________________\n"
     ]
    }
   ],
   "source": [
    "model.summary()"
   ]
  },
  {
   "cell_type": "code",
   "execution_count": 24,
   "id": "d85569f6-2a01-490f-bc8d-372d3f95f92a",
   "metadata": {},
   "outputs": [
    {
     "data": {
      "image/png": "[encoded data removed]",
      "text/plain": [
       "<Figure size 432x288 with 1 Axes>"
      ]
     },
     "metadata": {
      "needs_background": "light"
     },
     "output_type": "display_data"
    }
   ],
   "source": [
    "plt.plot(history.history['val_loss']) \n",
    "plt.plot(history.history['loss'])\n",
    "plt.title('Basic NN for Fashion MNIST: Loss')\n",
    "plt.ylabel('Loss')\n",
    "plt.xlabel('Epoch')\n",
    "plt.legend(['Validation Loss', \"Training Loss\"], loc='upper left')\n",
    "plt.show()"
   ]
  },
  {
   "cell_type": "code",
   "execution_count": null,
   "id": "6f7c8d0a-7ba6-45d8-b08a-efb205b3922e",
   "metadata": {},
   "outputs": [],
   "source": []
  }
 ],
 "metadata": {
  "kernelspec": {
   "display_name": "Python 3 (ipykernel)",
   "language": "python",
   "name": "python3"
  },
  "language_info": {
   "codemirror_mode": {
    "name": "ipython",
    "version": 3
   },
   "file_extension": ".py",
   "mimetype": "text/x-python",
   "name": "python",
   "nbconvert_exporter": "python",
   "pygments_lexer": "ipython3",
   "version": "3.9.7"
  }
 },
 "nbformat": 4,
 "nbformat_minor": 5
}
